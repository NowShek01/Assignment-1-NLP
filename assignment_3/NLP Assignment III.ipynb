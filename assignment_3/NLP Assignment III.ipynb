{
 "cells": [
  {
   "cell_type": "markdown",
   "metadata": {
    "colab_type": "text",
    "id": "view-in-github"
   },
   "source": [
    "<a href=\"https://colab.research.google.com/github/Juanfra21/nlp-yu/blob/main/assn-3/Assignment3_Part_III.ipynb\" target=\"_parent\"><img src=\"https://colab.research.google.com/assets/colab-badge.svg\" alt=\"Open In Colab\"/></a>"
   ]
  },
  {
   "cell_type": "markdown",
   "metadata": {
    "id": "AQ7DMQe6ynxH"
   },
   "source": [
    "##Part III:  Machine Learning and Deep Neural Networks with NLP\n",
    "\n",
    "Next we will move to Machine Learning Models and the Introduction of Deep Neural networks for NLP.\n",
    "\n",
    "In this section, we will cover:\n",
    "\n",
    "\n",
    "1.   Refresher on Machine Learning and Shallow Learning Approach\n",
    "2.   Introduction to Neural Networks and Deep Learning\n",
    "3.   Sequence Models with Neural Networks\n",
    "\n",
    "## Setup\n",
    "As part of completing the assignment, you will see that there are areas in the note book for you to complete your own coding input.\n",
    "\n",
    "It will be look like following:\n",
    "```\n",
    "### START CODE HERE (REPLACE INSTANCES OF 'None' with your code) ###\n",
    "'Some coding activity for you to complete'\n",
    "### END CODE HERE ###\n",
    "\n",
    "```\n",
    "Please be sure to fill these code snippets out as you turn in your assignment."
   ]
  },
  {
   "cell_type": "markdown",
   "metadata": {
    "id": "B2gM5VJY33wG"
   },
   "source": [
    "### 3.1 Machine Learning for NLP\n",
    "Recall that we can use our techniques to create predictive algorithms and solve common NLP tasks/goals such as sentiment analysis, text summarization, question-answering, etc. These tasks, you will find, are greatly improved with Deep Learning and Neural Networks.\n",
    "\n",
    "\n",
    "![Artificial Intelligence](https://drive.google.com/uc?export=view&id=1cMW6E4PiVPvxvlfS7IxrBNkv2byAelXy)\n",
    "\n",
    "\n",
    "Before move towards understanding the NN used for NLP, let's briefly refresh our understanding of Machine Learning, or shallow learning techniques.\n",
    "\n",
    "There are several fundamental steps to any Machine Learning algorithm. Typically, they follow these steps below.\n",
    "\n",
    "![basic ML](https://drive.google.com/uc?export=view&id=1cNhv3qDj_j8Mvga274azmRYJ0LzC2bxx)\n",
    "\n",
    "One of the most common use cases is classification of data. We use a supervised machine learning model where some body of text are classified or labeled. may create an input vector that we must use feature engineering techniques as an input to the ML algorithm. This often means altering the data and making assumptions about the variables in the data that we believe are most pertinent to the predictability of the data. An example is the Naive Bayes and Bag-of-Words representation.\n",
    "\n",
    "To train a model -- for example, training a logistic regression model to determine whether or not a movie review is positive or negative, for example-- we split the labeled data into a training and test sets. First, we will run the algorithm on the training test data, and then evaluate its efficacy. Then, we run the test dataset through the model to evaluate its performance.\n",
    "\n",
    "As we evaluate the performance of the model, we tune \"hyperparameters\". Hyperparameters are inputs to our model that have an influence on the models' performance. They are most often inputs by humans and determined through a series of heuristics and they result in estimates to the model parametters. For example, the percentage of data split between a training and test set is a heuristic -- or rule of thumb-- where we often choose 80% of the labeled data to train our model, and 20% to test it.\n",
    "\n"
   ]
  },
  {
   "cell_type": "markdown",
   "metadata": {
    "id": "niCiauS44zRm"
   },
   "source": [
    "#### 3.1.1 Example: ML Approach with NLP - Sentiment Analysis Using Bag-of-Words\n",
    "We often call the Naïve Bayes classifier the bag-of-words approach. That’s because we are essentially throwing in the collection of words into a ‘bag’, selecting a word at random, and then calculating their frequency to use in the Bayesian Inference. Thus, context – the position of words -- is ignored and despite this, it turns out that the Naïve Bayes approach can be accurate and effective at determining whether an email is spam for example.\n"
   ]
  },
  {
   "cell_type": "markdown",
   "metadata": {
    "id": "iiAq2yoqEFci"
   },
   "source": [
    "###### 3.1.1.1 Load the Dataset and Inspect the data."
   ]
  },
  {
   "cell_type": "code",
   "execution_count": 1,
   "metadata": {
    "colab": {
     "base_uri": "https://localhost:8080/"
    },
    "id": "1hAUE4tB45S2",
    "outputId": "ebaaf2e5-b873-4fcf-f8a3-ad32f7f48115"
   },
   "outputs": [
    {
     "name": "stderr",
     "output_type": "stream",
     "text": [
      "[nltk_data] Downloading package movie_reviews to\n",
      "[nltk_data]     /Users/ask/nltk_data...\n",
      "[nltk_data]   Package movie_reviews is already up-to-date!\n"
     ]
    },
    {
     "name": "stdout",
     "output_type": "stream",
     "text": [
      "2000\n",
      "['neg', 'pos']\n",
      "['plot', ':', 'two', 'teen', 'couples', 'go', 'to', ...]\n",
      "['neg/cv000_29416.txt', 'neg/cv001_19502.txt', 'neg/cv002_17424.txt', 'neg/cv003_12683.txt', 'neg/cv004_12641.txt', 'neg/cv005_29357.txt', 'neg/cv006_17022.txt', 'neg/cv007_4992.txt', 'neg/cv008_29326.txt', 'neg/cv009_29417.txt']\n",
      "Number of Reviews/Documents: 2000\n",
      "Corpus Size (words): 1583820\n",
      "Sample Text of Doc 1:\n",
      "------------------------------\n",
      "most movies seem to release a third movie just so it can be called a trilogy . rocky iii seems to kind of fit in that category , but manages to be slightly unique . the rocky formula of \" rocky loses fight / rocky trains / rocky wins fight\n",
      "Counter({'pos': 1000, 'neg': 1000})\n"
     ]
    }
   ],
   "source": [
    "#from: https://alvinntnu.github.io/NTNU_ENC2045_LECTURES/nlp/ml-sklearn-classification.html#data-loading\n",
    "#import libraries\n",
    "import nltk, random\n",
    "nltk.download('movie_reviews')\n",
    "from nltk.corpus import movie_reviews\n",
    "import pandas as pd\n",
    "import matplotlib.pyplot as plt\n",
    "import numpy as np\n",
    "\n",
    "#Load the data from nltk.corpus.moviereviews\n",
    "print(len(movie_reviews.fileids()))\n",
    "print(movie_reviews.categories())\n",
    "print(movie_reviews.words()[:100])\n",
    "print(movie_reviews.fileids()[:10])\n",
    "\n",
    "#Rearrange the corpus data as a list of tuple, where the first element is the word tokens of the documents,\n",
    "#and the second element is the label of the documents (i.e., sentiment labels).\n",
    "documents = [(list(movie_reviews.words(fileid)), category)\n",
    "             for category in movie_reviews.categories()\n",
    "             for fileid in movie_reviews.fileids(category)]\n",
    "random.seed(123)\n",
    "random.shuffle(documents)\n",
    "\n",
    "#Describe the dataset\n",
    "print('Number of Reviews/Documents: {}'.format(len(documents)))  #Corpus Size (Number of Documents)\n",
    "print('Corpus Size (words): {}'.format(np.sum([len(d) for (d,l) in documents]))) #Corpus Size (Number of Words)\n",
    "print('Sample Text of Doc 1:') #Distribution of the Two Classes\n",
    "print('-'*30)\n",
    "print(' '.join(documents[0][0][:50])) # first 50 words of the first document\n",
    "\n",
    "## Check Sentiment Distribution of the Current Dataset\n",
    "from collections import Counter\n",
    "sentiment_distr = Counter([label for (words, label) in documents])\n",
    "print(sentiment_distr)"
   ]
  },
  {
   "cell_type": "markdown",
   "metadata": {
    "id": "hh028orQEBbi"
   },
   "source": [
    "###### 3.1.1.2 Split the data into a training and testing set.\n",
    "\n",
    "Because in most of the ML steps, the feature sets and the labels are often separated as two units, we split our training data into X_train and y_train as the features (X) and labels (y) in training.\n",
    "\n",
    "Likewise, we split our testing data into X_test and y_test as the features (X) and labels (y) in testing."
   ]
  },
  {
   "cell_type": "code",
   "execution_count": 2,
   "metadata": {
    "colab": {
     "base_uri": "https://localhost:8080/"
    },
    "id": "JmmY9tMPEKei",
    "outputId": "ddd6904e-328c-4889-9e39-1eb9e5a62ddd"
   },
   "outputs": [
    {
     "name": "stdout",
     "output_type": "stream",
     "text": [
      "Counter({'neg': 674, 'pos': 666})\n",
      "Counter({'pos': 334, 'neg': 326})\n"
     ]
    }
   ],
   "source": [
    "from sklearn.model_selection import train_test_split\n",
    "train, test = train_test_split(documents, test_size = 0.33, random_state=42)\n",
    "## Sentiment Distrubtion for Train and Test\n",
    "print(Counter([label for (words, label) in train]))\n",
    "print(Counter([label for (words, label) in test]))\n",
    "\n",
    "X_train = [' '.join(words) for (words, label) in train]\n",
    "X_test = [' '.join(words) for (words, label) in test]\n",
    "y_train = [label for (words, label) in train]\n",
    "y_test = [label for (words, label) in test]"
   ]
  },
  {
   "cell_type": "markdown",
   "metadata": {
    "id": "1zD53QhgHpLB"
   },
   "source": [
    "##### 3.1.1.3 Text Vectorization\n",
    "In feature-based machine learning, we need to vectorize texts into feature sets (i.e., feature engineering on texts).\n",
    "\n",
    "We use the naive bag-of-words text vectorization. In particular, we use the weighted version of BOW.\n",
    "\n"
   ]
  },
  {
   "cell_type": "code",
   "execution_count": 3,
   "metadata": {
    "colab": {
     "base_uri": "https://localhost:8080/"
    },
    "id": "ux7ShwsdHydx",
    "outputId": "a74e1bb1-51ff-42fa-f23f-0b63b23e52a9"
   },
   "outputs": [
    {
     "name": "stdout",
     "output_type": "stream",
     "text": [
      "(1340, 6138)\n",
      "(660, 6138)\n"
     ]
    }
   ],
   "source": [
    "#Note: Always split the data into train and test first before vectorizing the texts.\n",
    "#Otherwise, you would leak information to the training process, which may lead to over-fitting\n",
    "\n",
    "from sklearn.feature_extraction.text import CountVectorizer, TfidfVectorizer\n",
    "\n",
    "tfidf_vec = TfidfVectorizer(min_df = 10, token_pattern = r'[a-zA-Z]+')\n",
    "X_train_bow = tfidf_vec.fit_transform(X_train) # fit train\n",
    "X_test_bow = tfidf_vec.transform(X_test) # transform test\n",
    "\n",
    "print(X_train_bow.shape)\n",
    "print(X_test_bow.shape)"
   ]
  },
  {
   "cell_type": "markdown",
   "metadata": {
    "id": "nzASDHmcH-Mj"
   },
   "source": [
    "##### 3.1.1.4 Model Selection and Cross Validation\n",
    "For our current binary sentiment classifier, we will try a few common classification algorithms:\n",
    "\n",
    "1.   Support Vector Machine\n",
    "2.   Decision Tree\n",
    "3.   Naive Bayes\n",
    "4.   Logistic Regression\n",
    "\n",
    "The common steps include:\n",
    "\n",
    "1.   We fit the model with our training data.\n",
    "2.   We check the model stability, using k-fold cross validation on the training data.\n",
    "3.   We use the fitted model to make prediction.\n",
    "4.   We evaluate the model prediction by comparing the predicted classes and the true labels."
   ]
  },
  {
   "cell_type": "markdown",
   "metadata": {
    "id": "hcwtL7asIgkJ"
   },
   "source": [
    "###### 3.1.1.5.1 Support Vector Machines"
   ]
  },
  {
   "cell_type": "code",
   "execution_count": 4,
   "metadata": {
    "colab": {
     "base_uri": "https://localhost:8080/"
    },
    "id": "Bw6wI3zoIm9K",
    "outputId": "570d5c0c-60be-49eb-a22f-2fd3ee90b651"
   },
   "outputs": [
    {
     "name": "stdout",
     "output_type": "stream",
     "text": [
      "0.8075757575757576\n"
     ]
    }
   ],
   "source": [
    "from sklearn import svm\n",
    "\n",
    "model_svm = svm.SVC(C=8.0, kernel='linear')\n",
    "model_svm.fit(X_train_bow, y_train)\n",
    "\n",
    "from sklearn.model_selection import cross_val_score\n",
    "model_svm_acc = cross_val_score(estimator=model_svm, X=X_train_bow, y=y_train, cv=5, n_jobs=-1)\n",
    "model_svm_acc\n",
    "\n",
    "model_svm.predict(X_test_bow[:10])\n",
    "print(model_svm.score(X_test_bow, y_test))"
   ]
  },
  {
   "cell_type": "markdown",
   "metadata": {
    "id": "qyVytywPIspy"
   },
   "source": [
    "###### 3.1.1.5.2 Decision Tree"
   ]
  },
  {
   "cell_type": "code",
   "execution_count": 5,
   "metadata": {
    "colab": {
     "base_uri": "https://localhost:8080/"
    },
    "id": "2Jf2pSbHIxdK",
    "outputId": "774bd377-8995-48b0-b4e4-f7ec2aff3230"
   },
   "outputs": [
    {
     "data": {
      "text/plain": [
       "array(['pos', 'neg', 'neg', 'neg', 'pos', 'pos', 'neg', 'neg', 'neg',\n",
       "       'neg'], dtype='<U3')"
      ]
     },
     "execution_count": 5,
     "metadata": {},
     "output_type": "execute_result"
    }
   ],
   "source": [
    "from sklearn.tree import DecisionTreeClassifier\n",
    "\n",
    "model_dec = DecisionTreeClassifier(max_depth=10, random_state=0)\n",
    "model_dec.fit(X_train_bow, y_train)\n",
    "\n",
    "model_dec_acc = cross_val_score(estimator=model_dec, X=X_train_bow, y=y_train, cv=5, n_jobs=-1)\n",
    "model_dec_acc\n",
    "\n",
    "model_dec.predict(X_test_bow[:10])"
   ]
  },
  {
   "cell_type": "markdown",
   "metadata": {
    "id": "eXlXXem9I18S"
   },
   "source": [
    "###### 3.1.1.5.3 Naive Bayes"
   ]
  },
  {
   "cell_type": "code",
   "execution_count": 6,
   "metadata": {
    "colab": {
     "base_uri": "https://localhost:8080/"
    },
    "id": "nsQcANavJNOa",
    "outputId": "176a42bf-2b16-4a84-d518-e0cad59fbfd5"
   },
   "outputs": [
    {
     "data": {
      "text/plain": [
       "array(['pos', 'neg', 'neg', 'neg', 'neg', 'neg', 'neg', 'neg', 'neg',\n",
       "       'neg'], dtype='<U3')"
      ]
     },
     "execution_count": 6,
     "metadata": {},
     "output_type": "execute_result"
    }
   ],
   "source": [
    "from sklearn.naive_bayes import GaussianNB\n",
    "model_gnb = GaussianNB()\n",
    "model_gnb.fit(X_train_bow.toarray(), y_train)\n",
    "\n",
    "model_gnb_acc = cross_val_score(estimator=model_gnb, X=X_train_bow.toarray(), y=y_train, cv=5, n_jobs=-1)\n",
    "model_gnb_acc\n",
    "\n",
    "model_gnb.predict(X_test_bow[:10].toarray())"
   ]
  },
  {
   "cell_type": "markdown",
   "metadata": {
    "id": "OfXV3d8bJTLy"
   },
   "source": [
    "###### 3.1.1.5.3 Logistic Regression"
   ]
  },
  {
   "cell_type": "code",
   "execution_count": 7,
   "metadata": {
    "colab": {
     "base_uri": "https://localhost:8080/"
    },
    "id": "zuZrQlHUJPTW",
    "outputId": "d13b60da-dc06-4c67-f93a-252331f4d967"
   },
   "outputs": [
    {
     "data": {
      "text/plain": [
       "array(['pos', 'neg', 'pos', 'neg', 'neg', 'pos', 'neg', 'neg', 'neg',\n",
       "       'pos'], dtype='<U3')"
      ]
     },
     "execution_count": 7,
     "metadata": {},
     "output_type": "execute_result"
    }
   ],
   "source": [
    "from sklearn.linear_model import LogisticRegression\n",
    "\n",
    "model_lg = LogisticRegression()\n",
    "model_lg.fit(X_train_bow, y_train)\n",
    "\n",
    "model_lg_acc = cross_val_score(estimator=model_lg, X=X_train_bow, y=y_train, cv=5, n_jobs=-1)\n",
    "model_lg_acc\n",
    "\n",
    "model_lg.predict(X_test_bow[:10].toarray())"
   ]
  },
  {
   "cell_type": "markdown",
   "metadata": {
    "id": "KpcXLgo_Jc0B"
   },
   "source": [
    "##### 3.1.1.3 Evaluation\n",
    "\n",
    "To evaluate each model’s performance, there are several common metrics in use:\n",
    "\n",
    "Precision\n",
    "\n",
    "1.   Precision\n",
    "2.   Recall\n",
    "3.   F-score\n",
    "4.   Accuracy\n",
    "5.   Confusion Matrix\n"
   ]
  },
  {
   "cell_type": "code",
   "execution_count": 8,
   "metadata": {
    "colab": {
     "base_uri": "https://localhost:8080/"
    },
    "id": "PAWdYNosocvv",
    "outputId": "5c83082d-d45f-4a47-d72f-2cb36a7c65a5"
   },
   "outputs": [
    {
     "name": "stdout",
     "output_type": "stream",
     "text": [
      "Requirement already satisfied: scikit-learn in /Users/ask/anaconda3/lib/python3.11/site-packages (1.5.1)\n",
      "Requirement already satisfied: numpy>=1.19.5 in /Users/ask/anaconda3/lib/python3.11/site-packages (from scikit-learn) (1.24.3)\n",
      "Requirement already satisfied: scipy>=1.6.0 in /Users/ask/anaconda3/lib/python3.11/site-packages (from scikit-learn) (1.10.1)\n",
      "Requirement already satisfied: joblib>=1.2.0 in /Users/ask/anaconda3/lib/python3.11/site-packages (from scikit-learn) (1.2.0)\n",
      "Requirement already satisfied: threadpoolctl>=3.1.0 in /Users/ask/anaconda3/lib/python3.11/site-packages (from scikit-learn) (3.5.0)\n",
      "Note: you may need to restart the kernel to use updated packages.\n"
     ]
    }
   ],
   "source": [
    "pip install --upgrade scikit-learn"
   ]
  },
  {
   "cell_type": "code",
   "execution_count": 10,
   "metadata": {
    "colab": {
     "base_uri": "https://localhost:8080/",
     "height": 453
    },
    "id": "1VxDTvfVKXbD",
    "outputId": "ed4e00fa-e63f-40ae-8131-63a9856f36d1"
   },
   "outputs": [
    {
     "name": "stdout",
     "output_type": "stream",
     "text": [
      "0.8075757575757576\n",
      "0.65\n",
      "0.7015151515151515\n",
      "0.793939393939394\n"
     ]
    },
    {
     "ename": "ImportError",
     "evalue": "cannot import name 'plot_confusion_matrix' from 'sklearn.metrics' (/Users/ask/anaconda3/lib/python3.11/site-packages/sklearn/metrics/__init__.py)",
     "output_type": "error",
     "traceback": [
      "\u001b[0;31m---------------------------------------------------------------------------\u001b[0m",
      "\u001b[0;31mImportError\u001b[0m                               Traceback (most recent call last)",
      "Cell \u001b[0;32mIn[10], line 16\u001b[0m\n\u001b[1;32m     10\u001b[0m y_pred \u001b[38;5;241m=\u001b[39m model_svm\u001b[38;5;241m.\u001b[39mpredict(X_test_bow)\n\u001b[1;32m     12\u001b[0m f1_score(y_test, y_pred,\n\u001b[1;32m     13\u001b[0m          average\u001b[38;5;241m=\u001b[39m\u001b[38;5;28;01mNone\u001b[39;00m,\n\u001b[1;32m     14\u001b[0m          labels \u001b[38;5;241m=\u001b[39m movie_reviews\u001b[38;5;241m.\u001b[39mcategories())\n\u001b[0;32m---> 16\u001b[0m \u001b[38;5;28;01mfrom\u001b[39;00m \u001b[38;5;21;01msklearn\u001b[39;00m\u001b[38;5;21;01m.\u001b[39;00m\u001b[38;5;21;01mmetrics\u001b[39;00m \u001b[38;5;28;01mimport\u001b[39;00m confusion_matrix, plot_confusion_matrix\n\u001b[1;32m     18\u001b[0m plot_confusion_matrix(model_svm, X_test_bow, y_test, normalize\u001b[38;5;241m=\u001b[39m\u001b[38;5;124m'\u001b[39m\u001b[38;5;124mall\u001b[39m\u001b[38;5;124m'\u001b[39m)\n\u001b[1;32m     19\u001b[0m plot_confusion_matrix(model_lg, X_test_bow\u001b[38;5;241m.\u001b[39mtoarray(), y_test, normalize\u001b[38;5;241m=\u001b[39m\u001b[38;5;124m'\u001b[39m\u001b[38;5;124mall\u001b[39m\u001b[38;5;124m'\u001b[39m)\n",
      "\u001b[0;31mImportError\u001b[0m: cannot import name 'plot_confusion_matrix' from 'sklearn.metrics' (/Users/ask/anaconda3/lib/python3.11/site-packages/sklearn/metrics/__init__.py)"
     ]
    }
   ],
   "source": [
    "#Mean Accuracy\n",
    "print(model_svm.score(X_test_bow, y_test))\n",
    "print(model_dec.score(X_test_bow, y_test))\n",
    "print(model_gnb.score(X_test_bow.toarray(), y_test))\n",
    "print(model_lg.score(X_test_bow, y_test))\n",
    "\n",
    "# F1\n",
    "from sklearn.metrics import f1_score\n",
    "\n",
    "y_pred = model_svm.predict(X_test_bow)\n",
    "\n",
    "f1_score(y_test, y_pred,\n",
    "         average=None,\n",
    "         labels = movie_reviews.categories())\n",
    "\n",
    "from sklearn.metrics import confusion_matrix, plot_confusion_matrix\n",
    "\n",
    "plot_confusion_matrix(model_svm, X_test_bow, y_test, normalize='all')\n",
    "plot_confusion_matrix(model_lg, X_test_bow.toarray(), y_test, normalize='all')\n",
    "\n",
    "## try a whole new self-created review:)\n",
    "new_review =['This book looks soso like the content but the cover is weird',\n",
    "             'This book looks soso like the content and the cover is weird'\n",
    "            ]\n",
    "new_review_bow = tfidf_vec.transform(new_review)\n",
    "model_svm.predict(new_review_bow)\n"
   ]
  },
  {
   "cell_type": "markdown",
   "metadata": {
    "id": "5Uc7yLN-KfN6"
   },
   "source": [
    "##### 3.1.1.4 Tuning Hyperparameters\n",
    "For each model, we have not optimized it in terms of its hyperparameter setting.\n",
    "\n",
    "Now that SVM seems to perform the best among all, we take this as our base model and further fine-tune its hyperparameter using cross-validation and Grid Search.\n",
    "\n"
   ]
  },
  {
   "cell_type": "code",
   "execution_count": 11,
   "metadata": {
    "colab": {
     "base_uri": "https://localhost:8080/",
     "height": 582
    },
    "id": "hPZJnNT_KqI7",
    "outputId": "a3645cb7-7094-4a34-d1a5-cc7ac8349d80"
   },
   "outputs": [
    {
     "name": "stdout",
     "output_type": "stream",
     "text": [
      "['mean_fit_time', 'mean_score_time', 'mean_test_score', 'param_C', 'param_kernel', 'params', 'rank_test_score', 'split0_test_score', 'split1_test_score', 'split2_test_score', 'split3_test_score', 'split4_test_score', 'split5_test_score', 'split6_test_score', 'split7_test_score', 'split8_test_score', 'split9_test_score', 'std_fit_time', 'std_score_time', 'std_test_score']\n",
      "{'C': 1, 'kernel': 'linear'}\n",
      "0.8106060606060606\n"
     ]
    }
   ],
   "source": [
    "from sklearn.model_selection import GridSearchCV\n",
    "\n",
    "parameters = {'kernel': ('linear', 'rbf'), 'C': (1,4,8,16,32)}\n",
    "\n",
    "svc = svm.SVC()\n",
    "clf = GridSearchCV(svc, parameters, cv=10, n_jobs=-1) ## `-1` run in parallel\n",
    "clf.fit(X_train_bow, y_train)\n",
    "\n",
    "\n",
    "print(sorted(clf.cv_results_.keys()))\n",
    "\n",
    "#We can check the parameters that yield the most optimal results in the Grid Search:\n",
    "\n",
    "print(clf.best_params_)\n",
    "print(clf.score(X_test_bow, y_test))"
   ]
  },
  {
   "cell_type": "markdown",
   "metadata": {
    "id": "QqTkIiXy45dG"
   },
   "source": [
    "### 3.2 Introduction to Neural Networks for NLP\n",
    "\n",
    "With the advancement of computational efficiency and resource availability combined with the availability of large amounts of data came the rising importance of Neural Networks and Deep Learning. Especially as it pertains to NLP.\n",
    "\n",
    "*What is Deep Learning?*\n",
    "Deep Learning is a type of machine learning based on artifical neaural networks in which multiple layers of processing are used to extract progressively higher levels of features from data.\n",
    "\n",
    "*What is used for?*\n",
    "Common segments of Deep Learning include NLP tasks, image processing, and time/sequence data analysis like predicting stock market trends or the weather.\n",
    "\n",
    "*How is it different from Machine Learning?*\n",
    "There are several differences (but a lot more in common). Primarily, neural networks enable models to learn non-linear decision boundaries instead of strict linear boundaries. Moreover, Deep Learning notorious does away with feature extraction and engineering.\n",
    "\n",
    "Non-linear decision boundaries compared to classical linear output for Machine Learning\n",
    "![Artificial Intelligence](https://drive.google.com/uc?export=view&id=1cUbV4UZDThbmcKsJKKQGsreEOmkWQSeS)\n",
    "\n",
    "ML vs DL\n",
    "![Artificial Intelligence](https://drive.google.com/uc?export=view&id=1cSP4uxjq-8IL8xRiDN5xRHveTNnPoHp1)\n",
    "\n"
   ]
  },
  {
   "cell_type": "markdown",
   "metadata": {
    "id": "wXgv2idTSh9X"
   },
   "source": [
    "#### 3.1.1 Types of Neural Networks\n",
    "There are several types of Neural Networks that can be used to achieve different predictive goals. For example, we commonly use Convolutional Neural Networks to process image tasks (or non-sequential tasks) and we use a very of Recurrent Neural Networks to complete sequence-based tasks like time series for stock predictions or translating a sentence from left to right.\n",
    "\n",
    "The following diagram shows the types of Networks that support sequential and non-sequential data.\n",
    "\n",
    "![Neural Networks](https://drive.google.com/uc?export=view&id=12Ixtwys-z3_vv1ema0xyonYOffAWn5p1)\n",
    "\n",
    "##### 2.1.2 Characteristics of the types of NN ([from Chen, 2020](https://alvinntnu.github.io/NTNU_ENC2045_LECTURES/nlp/dl-neural-network-from-scratch.html))\n",
    "\n",
    "*Multi-Layer Perceptron (Fully Connected Network)*\n",
    "*   Input Layer, one or more hidden layers, and output layer\n",
    "*  A hidden layer consists of neurons (perceptrons) which process certain aspect of the features and send the processed information into the next hidden layer.\n",
    "\n",
    "*Convolutional Neural Network (CNN)*\n",
    "*   Mainly for image and audio processing\n",
    "*   Convolution Layer, Pooling Layer, Fully Connected Layer\n",
    "\n",
    "*Recurrent Neural Network (RNN)*\n",
    "*   fully-connected networks do not remember the steps from previous situations and therefore do not learn to make decisions based on context in training.\n",
    "*  RNN stores the past information and all its decisions are taken from what it has learned from the past.\n",
    "*   RNN is effective in dealing with time-series data (e.g., text, speech).\n",
    "*   Preferred methods in NLP\n",
    "\n",
    "\n"
   ]
  },
  {
   "cell_type": "markdown",
   "metadata": {
    "id": "sTMKd5MhSqML"
   },
   "source": [
    "#### 3.1.2 Characteristics of the Neural Network\n",
    "\n",
    "The following image shows a basic forward propogation Neural Network![NN GIF](https://drive.google.com/uc?export=view&id=1cPN0fK69ncwFD-Idaesvc4LvSLDpHhbO)\n",
    "\n",
    "Generically, a Neural Network will include  (from Chen, 2020):\n",
    "\n",
    "*   **Forward Propagation**: the process of the model taking a series of inputs, manipulating and transforming them, running them through the hidden layers, and producing a predictive output layer.\n",
    "*   **Backward Propagation**: the process of comparing the outputs of the model and then updating the weights in your model to adjust for the observed output compared to the expected output (called loss).\n",
    "*   **Weights**: A vector of weights that are part of the \"hidden layer\". Weights are multiplied by the input layer or previous hidden layer to teach the model which neurons should be activated. Thus, they are an input into the neuron. The also get trained to be more accurate through backpropogation.\n",
    "*   **Neurons**: The component of the Neural Network that is its namesake!. This allow us to model non-linear relationships between input and output data.\n",
    "*   **Activation Functions**:  the activation function of a node determines whether the node would activate the output given the weighted sum of the input values.\n",
    "*   **Nodes to Layers**: neural network can be defined in terms of depths and widths of its layers\n",
    "*   **Layer, Parameters, and Matrix Mutiplication**: Each layer transforms the input values into the output values based on its layer parameters.\n",
    "*   **Hyperparameters**: similar to ML, these are typically human inputs to the model to refine the models predictive efficacy.\n",
    "*   **Loss Function**: If the target ouputs are numeric values, we can evaluate the errors. The loss function (termed cross entropy) represents the function of showing the actual distance of the observed output against the expected output. We can use this information to update our network to be better at predicting in our backpropogation process.\n",
    "*   **Learning Rate and Gradient Descent**: Using the Loss Function, we can now perform the most important step in model training — adjusting the weights (i.e., parameters) of the model. This optimization method to finding a combination of weights that minimize the loss function. The learning rate is a hyperparameter that controls how fast the model learns.\n",
    "\n",
    "\n",
    "\n",
    "\n",
    "\n",
    "\n"
   ]
  },
  {
   "cell_type": "markdown",
   "metadata": {
    "id": "a-3O5oiq5FBO"
   },
   "source": [
    "#### 3.2.3 Example: Neural Network Approach for NLP\n",
    "\n",
    "Please refer (here) [https://alvinntnu.github.io/NTNU_ENC2045_LECTURES/nlp/dl-sentiment-case.html#prepare-data] for an example of NLP using various types of Neural Networks.,"
   ]
  },
  {
   "cell_type": "markdown",
   "metadata": {
    "id": "6O4qWBwE5PXe"
   },
   "source": [
    "### 3.3 Introduction to Recurrent Neural Networks\n",
    "\n",
    "Recurrent neural network (RNN) \"contains loops, allowing information to be stored within the network. In short, Recurrent Neural Networks use their reasoning from previous experiences to inform the upcoming events.\"\n",
    "\n",
    "A common example of an RNN is machine translation. For example, the *sequence* of the sentence is used to translate from one language to another.\n",
    "\n",
    "\n",
    "See the image below of the RNN Formula:\n",
    "\n",
    "![Neural Networks](https://drive.google.com/uc?export=view&id=12OLUdjs-cDP--rRVU2DziuiWUYKUiruw)\n",
    "\n",
    "See additional the different types of RNNs:![Neural Networks](https://drive.google.com/uc?export=view&id=12MRBEOEukvOzkZt6yvcQJwDwrHSj18dh)\n",
    "\n",
    "Please read the following for a great Illustrated Guide to [Recurrent Neural Networks](https://towardsdatascience.com/illustrated-guide-to-recurrent-neural-networks-79e5eb8049c9)\n"
   ]
  },
  {
   "cell_type": "markdown",
   "metadata": {
    "id": "j8VbcnhR5Wqe"
   },
   "source": [
    "### 3.4 Exercise: Neural Network for NLP\n",
    "\n",
    "Use the Brown corpus (nltk.corpus.brown) to create a trigram-based neural language model.\n",
    "\n",
    "Please use the language model to generate 50-word text sequences using the seed text “The news”. Provide a few examples from your trained model.\n",
    "\n",
    "A few important notes in data preprocessing:\n",
    "\n",
    "When preparing the input sequences of trigrams for model training, please make sure the trigram does not span across “sentence boundaries”. You can utilize the sentence tokenization annotations provided by the ntlk.corpus.brown.sents().\n",
    "\n",
    "The neural language model will be trained based on all trigrams that fulfill the above criterion in the entire Brown corpus.\n",
    "\n",
    "When you use your trigram-based neural language model to generate sequences, please add randomness to the sampling of the next word. If you always ask the language model to choose the next word of highest predicted probability value, your text would be very repetitive.\n",
    "\n",
    "Please provide your code response in the cell below:\n"
   ]
  },
  {
   "cell_type": "markdown",
   "metadata": {
    "id": "361fS1TpFfct"
   },
   "source": [
    "#### Import necessary packages and download NLTK data"
   ]
  },
  {
   "cell_type": "code",
   "execution_count": 17,
   "metadata": {
    "colab": {
     "base_uri": "https://localhost:8080/"
    },
    "id": "rtfFHTn75dSu",
    "outputId": "7f5bba51-bc5a-40d9-af73-4e467cc4f99f"
   },
   "outputs": [
    {
     "name": "stderr",
     "output_type": "stream",
     "text": [
      "[nltk_data] Downloading package brown to /Users/ask/nltk_data...\n",
      "[nltk_data]   Package brown is already up-to-date!\n",
      "[nltk_data] Downloading package punkt to /Users/ask/nltk_data...\n",
      "[nltk_data]   Package punkt is already up-to-date!\n"
     ]
    },
    {
     "name": "stdout",
     "output_type": "stream",
     "text": [
      "Epoch 1/20\n",
      "\u001b[1m1682/1682\u001b[0m \u001b[32m━━━━━━━━━━━━━━━━━━━━\u001b[0m\u001b[37m\u001b[0m \u001b[1m32s\u001b[0m 18ms/step - accuracy: 0.1246 - loss: 5.6634 - val_accuracy: 0.1871 - val_loss: 4.7123\n",
      "Epoch 2/20\n",
      "\u001b[1m1682/1682\u001b[0m \u001b[32m━━━━━━━━━━━━━━━━━━━━\u001b[0m\u001b[37m\u001b[0m \u001b[1m31s\u001b[0m 18ms/step - accuracy: 0.2027 - loss: 4.7856 - val_accuracy: 0.2223 - val_loss: 4.3843\n",
      "Epoch 3/20\n",
      "\u001b[1m1682/1682\u001b[0m \u001b[32m━━━━━━━━━━━━━━━━━━━━\u001b[0m\u001b[37m\u001b[0m \u001b[1m30s\u001b[0m 18ms/step - accuracy: 0.2261 - loss: 4.5519 - val_accuracy: 0.2328 - val_loss: 4.2462\n",
      "Epoch 4/20\n",
      "\u001b[1m1682/1682\u001b[0m \u001b[32m━━━━━━━━━━━━━━━━━━━━\u001b[0m\u001b[37m\u001b[0m \u001b[1m32s\u001b[0m 19ms/step - accuracy: 0.2374 - loss: 4.4227 - val_accuracy: 0.2380 - val_loss: 4.1724\n",
      "Epoch 5/20\n",
      "\u001b[1m1682/1682\u001b[0m \u001b[32m━━━━━━━━━━━━━━━━━━━━\u001b[0m\u001b[37m\u001b[0m \u001b[1m30s\u001b[0m 17ms/step - accuracy: 0.2418 - loss: 4.3517 - val_accuracy: 0.2410 - val_loss: 4.1310\n",
      "Epoch 6/20\n",
      "\u001b[1m1682/1682\u001b[0m \u001b[32m━━━━━━━━━━━━━━━━━━━━\u001b[0m\u001b[37m\u001b[0m \u001b[1m32s\u001b[0m 19ms/step - accuracy: 0.2436 - loss: 4.3101 - val_accuracy: 0.2407 - val_loss: 4.1064\n",
      "Epoch 7/20\n",
      "\u001b[1m1682/1682\u001b[0m \u001b[32m━━━━━━━━━━━━━━━━━━━━\u001b[0m\u001b[37m\u001b[0m \u001b[1m32s\u001b[0m 19ms/step - accuracy: 0.2467 - loss: 4.2742 - val_accuracy: 0.2461 - val_loss: 4.0789\n",
      "Epoch 8/20\n",
      "\u001b[1m1682/1682\u001b[0m \u001b[32m━━━━━━━━━━━━━━━━━━━━\u001b[0m\u001b[37m\u001b[0m \u001b[1m30s\u001b[0m 18ms/step - accuracy: 0.2496 - loss: 4.2399 - val_accuracy: 0.2459 - val_loss: 4.0617\n",
      "Epoch 9/20\n",
      "\u001b[1m1682/1682\u001b[0m \u001b[32m━━━━━━━━━━━━━━━━━━━━\u001b[0m\u001b[37m\u001b[0m \u001b[1m34s\u001b[0m 20ms/step - accuracy: 0.2516 - loss: 4.2117 - val_accuracy: 0.2489 - val_loss: 4.0519\n",
      "Epoch 10/20\n",
      "\u001b[1m1682/1682\u001b[0m \u001b[32m━━━━━━━━━━━━━━━━━━━━\u001b[0m\u001b[37m\u001b[0m \u001b[1m35s\u001b[0m 21ms/step - accuracy: 0.2530 - loss: 4.1879 - val_accuracy: 0.2482 - val_loss: 4.0348\n",
      "Epoch 11/20\n",
      "\u001b[1m1682/1682\u001b[0m \u001b[32m━━━━━━━━━━━━━━━━━━━━\u001b[0m\u001b[37m\u001b[0m \u001b[1m32s\u001b[0m 19ms/step - accuracy: 0.2546 - loss: 4.1658 - val_accuracy: 0.2497 - val_loss: 4.0310\n",
      "Epoch 12/20\n",
      "\u001b[1m1682/1682\u001b[0m \u001b[32m━━━━━━━━━━━━━━━━━━━━\u001b[0m\u001b[37m\u001b[0m \u001b[1m27s\u001b[0m 16ms/step - accuracy: 0.2562 - loss: 4.1480 - val_accuracy: 0.2502 - val_loss: 4.0144\n",
      "Epoch 13/20\n",
      "\u001b[1m1682/1682\u001b[0m \u001b[32m━━━━━━━━━━━━━━━━━━━━\u001b[0m\u001b[37m\u001b[0m \u001b[1m32s\u001b[0m 19ms/step - accuracy: 0.2582 - loss: 4.1306 - val_accuracy: 0.2518 - val_loss: 4.0076\n",
      "Epoch 14/20\n",
      "\u001b[1m1682/1682\u001b[0m \u001b[32m━━━━━━━━━━━━━━━━━━━━\u001b[0m\u001b[37m\u001b[0m \u001b[1m30s\u001b[0m 18ms/step - accuracy: 0.2579 - loss: 4.1175 - val_accuracy: 0.2535 - val_loss: 4.0050\n",
      "Epoch 15/20\n",
      "\u001b[1m1682/1682\u001b[0m \u001b[32m━━━━━━━━━━━━━━━━━━━━\u001b[0m\u001b[37m\u001b[0m \u001b[1m30s\u001b[0m 18ms/step - accuracy: 0.2599 - loss: 4.0946 - val_accuracy: 0.2532 - val_loss: 3.9957\n",
      "Epoch 16/20\n",
      "\u001b[1m1682/1682\u001b[0m \u001b[32m━━━━━━━━━━━━━━━━━━━━\u001b[0m\u001b[37m\u001b[0m \u001b[1m31s\u001b[0m 18ms/step - accuracy: 0.2601 - loss: 4.0903 - val_accuracy: 0.2544 - val_loss: 3.9925\n",
      "Epoch 17/20\n",
      "\u001b[1m1682/1682\u001b[0m \u001b[32m━━━━━━━━━━━━━━━━━━━━\u001b[0m\u001b[37m\u001b[0m \u001b[1m31s\u001b[0m 18ms/step - accuracy: 0.2623 - loss: 4.0753 - val_accuracy: 0.2537 - val_loss: 3.9836\n",
      "Epoch 18/20\n",
      "\u001b[1m1682/1682\u001b[0m \u001b[32m━━━━━━━━━━━━━━━━━━━━\u001b[0m\u001b[37m\u001b[0m \u001b[1m30s\u001b[0m 18ms/step - accuracy: 0.2628 - loss: 4.0593 - val_accuracy: 0.2537 - val_loss: 3.9829\n",
      "Epoch 19/20\n",
      "\u001b[1m1682/1682\u001b[0m \u001b[32m━━━━━━━━━━━━━━━━━━━━\u001b[0m\u001b[37m\u001b[0m \u001b[1m32s\u001b[0m 19ms/step - accuracy: 0.2631 - loss: 4.0528 - val_accuracy: 0.2536 - val_loss: 3.9771\n",
      "Epoch 20/20\n",
      "\u001b[1m1682/1682\u001b[0m \u001b[32m━━━━━━━━━━━━━━━━━━━━\u001b[0m\u001b[37m\u001b[0m \u001b[1m33s\u001b[0m 19ms/step - accuracy: 0.2636 - loss: 4.0393 - val_accuracy: 0.2558 - val_loss: 3.9798\n"
     ]
    },
    {
     "name": "stderr",
     "output_type": "stream",
     "text": [
      "WARNING:absl:You are saving your model as an HDF5 file via `model.save()` or `keras.saving.save_model(model)`. This file format is considered legacy. We recommend using instead the native Keras format, e.g. `model.save('my_model.keras')` or `keras.saving.save_model(model, 'my_model.keras')`. \n"
     ]
    },
    {
     "name": "stdout",
     "output_type": "stream",
     "text": [
      "The news which is increasing almost the fire of Sir , the next half of the service of the Secretary of State board . </s> an old . </s> </s> like the trade . </s> has as he sat off or at least Mrs. R. C. writing , the way they view\n"
     ]
    }
   ],
   "source": [
    "import nltk\n",
    "from nltk.corpus import brown\n",
    "from tensorflow.keras.preprocessing.sequence import pad_sequences\n",
    "from tensorflow.keras.utils import to_categorical\n",
    "from tensorflow.keras.models import Sequential\n",
    "from tensorflow.keras.layers import Embedding, LSTM, Dense, Dropout\n",
    "import numpy as np\n",
    "from collections import Counter\n",
    "import tensorflow as tf\n",
    "import random\n",
    "\n",
    "# Download necessary NLTK data\n",
    "nltk.download('brown')\n",
    "nltk.download('punkt')\n",
    "\n",
    "# Load the Brown corpus sentences\n",
    "sentences = brown.sents()\n",
    "\n",
    "# 1. Generate trigrams, ensuring they do not span across sentence boundaries\n",
    "trigrams = []\n",
    "for sentence in sentences:\n",
    "    sentence = ['<s>'] + sentence + ['</s>']\n",
    "    trigrams.extend([tuple(sentence[i:i+3]) for i in range(len(sentence) - 2)])\n",
    "\n",
    "# 2. Flatten list of words and calculate word frequencies\n",
    "flat_words = [word for sentence in sentences for word in sentence]\n",
    "word_freq = Counter(flat_words)\n",
    "\n",
    "# 3. Limit vocabulary size to the top 2000 most common words\n",
    "vocab_size = 2000\n",
    "most_common_words = [word for word, _ in word_freq.most_common(vocab_size)]\n",
    "vocab = set(most_common_words + ['<s>', '</s>'])\n",
    "word_to_index = {word: idx for idx, word in enumerate(vocab)}\n",
    "index_to_word = {idx: word for word, idx in word_to_index.items()}\n",
    "\n",
    "# 4. Filter trigrams to include only those with words in the limited vocabulary\n",
    "filtered_trigrams = [trigram for trigram in trigrams if all(word in vocab for word in trigram)]\n",
    "\n",
    "# 5. Prepare data for training\n",
    "X_data = np.array([[word_to_index[w1], word_to_index[w2]] for w1, w2, w3 in filtered_trigrams])\n",
    "y_data = to_categorical([word_to_index[w3] for w1, w2, w3 in filtered_trigrams], num_classes=len(vocab))\n",
    "\n",
    "# Define the LSTM model\n",
    "model = Sequential()\n",
    "model.add(Embedding(input_dim=len(vocab), output_dim=50, input_length=2))\n",
    "model.add(LSTM(100, return_sequences=True))\n",
    "model.add(Dropout(0.2))\n",
    "model.add(LSTM(100))\n",
    "model.add(Dropout(0.2))\n",
    "model.add(Dense(len(vocab), activation='softmax'))\n",
    "\n",
    "# Compile the model\n",
    "model.compile(loss='categorical_crossentropy', optimizer='adam', metrics=['accuracy'])\n",
    "\n",
    "# Train the model\n",
    "model.fit(X_data, y_data, epochs=20, batch_size=256, validation_split=0.2)\n",
    "\n",
    "# Save the model\n",
    "model.save('trigram_language_model.h5')\n",
    "\n",
    "# Function to generate text with added randomness\n",
    "def generate_text(seed_text, num_words, model, SEQ_LENGTH, word_to_index, index_to_word):\n",
    "    result = seed_text.split()\n",
    "    for _ in range(num_words):\n",
    "        encoded = [word_to_index[word] for word in result[-SEQ_LENGTH:]]\n",
    "        encoded = pad_sequences([encoded], maxlen=SEQ_LENGTH, padding='pre')\n",
    "        predicted = model.predict(encoded, verbose=0)[0]\n",
    "        \n",
    "        # Add randomness to the sampling process\n",
    "        predicted_word_idx = np.random.choice(len(predicted), p=predicted)\n",
    "        next_word = index_to_word[predicted_word_idx]\n",
    "        \n",
    "        result.append(next_word)\n",
    "    return ' '.join(result)\n",
    "\n",
    "# Generate text examples\n",
    "seed_text = \"The news\"\n",
    "generated_text = generate_text(seed_text, 50, model, SEQ_LENGTH=2, word_to_index=word_to_index, index_to_word=index_to_word)\n",
    "print(generated_text)\n"
   ]
  },
  {
   "cell_type": "code",
   "execution_count": 19,
   "metadata": {
    "id": "bJEpwMNkFQ3D"
   },
   "outputs": [
    {
     "name": "stdout",
     "output_type": "stream",
     "text": [
      "The news described to the end of the industrial performance can think these systems '' to help about the situation in which his own ? ? </s> </s> those of the oil had been to be conference in equipment , he said that of the spiritual funds in local pressure about our\n",
      "The news when the Department of from the music and been built down for the trip on the usual field rate of using May 4 . </s> and therefore that time can't come some of the planned must find in international service . </s> , a hands is a child , including\n",
      "The news George , who are a learned city than the South , National House , but only more familiar and the rate of groups , received a block at by the `` Southern '' and do our party '' , however , when your lie '' ? ? </s> </s> .\n",
      "The news if you do , he told him . </s> , when its defense individual objective crisis is home under May 4 , I wrote ; ; </s> </s> in American area . </s> </s> it is not closer , different water ; ; </s> </s> with a new churches .\n",
      "The news -- they it seemed to provide much greater as dramatic , when it's firm and those building between Europe from day Thomas went into the first half of Af ) at the beginning for a subject from wine , I'm used may help her mouth . </s> human . </s>\n"
     ]
    }
   ],
   "source": [
    "for i in range(5):\n",
    "    print(generate_text(\"The news\", 50, model, SEQ_LENGTH=2, word_to_index=word_to_index, index_to_word=index_to_word))"
   ]
  },
  {
   "cell_type": "markdown",
   "metadata": {
    "id": "tQ-mO2xjtjbd"
   },
   "source": [
    "Examples of the 50-word text sequences created by the language model:\n",
    "\n",
    "```\n",
    "The news that was the first time was that the public interest in the first time he was '' and the in the of the state to the of the world of these theories '' and a few days '' he said that a note of the characteristics of the time of\n",
    "\n",
    "\n",
    "The news of rayburn's commitment well known that mine '' he said '' he said he was in his own life and of the most part of the women have been the of her and mother '' said mrs buck have not been as a result of a group of the and\n",
    "\n",
    "\n",
    "The news that is the basic truth in the next day to relax the emotional stimulation and fear that the author of the western world '' and said it was not a little more than the most of the state of the quarrel obtained a qualification that most of these forces as\n",
    "\n",
    "\n",
    "The news and a little of the time we are never trying to find out what he has a small boy and a series of a new crisis the book was not a tax bill was not at the time of the white house would be to the extent to which he\n",
    "\n",
    "\n",
    "The news of the church must be well to the extent of the most important element of the '' the end of the whole world '' he said he was in the of the '' of the and of the state of the is the of his new ideas that had been\n",
    "```"
   ]
  },
  {
   "cell_type": "markdown",
   "metadata": {
    "id": "3ruAxznty058"
   },
   "source": [
    "##A. References\n",
    "\n",
    "1.   Chapter 7 – Neural Networks. Daniel Jurafsky & James H. Martin. Copyright © 2021. All rights reserved. Draft of September 21, 2021.\n",
    "2.   [Word2vec from Scratch with NumPy](https://towardsdatascience.com/word2vec-from-scratch-with-numpy-8786ddd49e72)\n",
    "3.   [A hands=on intutive approach to Deep Learning Methods for Text Data - Word2Vec,GloVe and FastText](https://towardsdatascience.com/understanding-feature-engineering-part-4-deep-learning-methods-for-text-data-96c44370bbfa)\n",
    "4.    [Traditional Methods for Text Data](https://towardsdatascience.com/understanding-feature-engineering-part-3-traditional-methods-for-text-data-f6f7d70acd41)\n",
    "5.    [Word Embeddings](https://colab.research.google.com/github/tensorflow/text/blob/master/docs/guide/word_embeddings.ipynb#scrollTo=Q6mJg1g3apaz)\n",
    "6. [CS 224D: Deep Learning for NLP](https://cs224d.stanford.edu/lecture_notes/LectureNotes1.pdf)\n",
    "7. [Text Vectorization](https://alvinntnu.github.io/NTNU_ENC2045_LECTURES/nlp/text-vec-traditional.html)\n",
    "8. [Brown Corpus](https://en.wikipedia.org/wiki/Brown_Corpus)\n",
    "9. [TF-IDF](https://ethen8181.github.io/machine-learning/clustering_old/tf_idf/tf_idf.html)\n",
    "10. [Applying TF-IDF algorithm in practice](https://plumbr.io/blog/programming/applying-tf-idf-algorithm-in-practice)\n",
    "11. [text2vec](http://text2vec.org/similarity.html)\n",
    "12. [Difference between a parameter and a hyperparameter](https://machinelearningmastery.com/difference-between-a-parameter-and-a-hyperparameter/)\n",
    "13. [Sentiment Analysis Using Bag-of-Words](https://alvinntnu.github.io/NTNU_ENC2045_LECTURES/nlp/ml-sklearn-classification.html)\n",
    "14. [LIME of words: interpreting Recurrent Neural Networks predictions](https://data4thought.com/deep-lime.html)\n",
    "15. [Deepai.org](https://deepai.org/machine-learning-glossary-and-terms/recurrent-neural-network)"
   ]
  }
 ],
 "metadata": {
  "accelerator": "GPU",
  "colab": {
   "gpuType": "T4",
   "include_colab_link": true,
   "provenance": [],
   "toc_visible": true
  },
  "kernelspec": {
   "display_name": "Python 3 (ipykernel)",
   "language": "python",
   "name": "python3"
  },
  "language_info": {
   "codemirror_mode": {
    "name": "ipython",
    "version": 3
   },
   "file_extension": ".py",
   "mimetype": "text/x-python",
   "name": "python",
   "nbconvert_exporter": "python",
   "pygments_lexer": "ipython3",
   "version": "3.11.4"
  }
 },
 "nbformat": 4,
 "nbformat_minor": 1
}
